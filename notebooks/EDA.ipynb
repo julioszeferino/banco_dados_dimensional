{
 "cells": [
  {
   "cell_type": "code",
   "execution_count": 1,
   "metadata": {},
   "outputs": [],
   "source": [
    "import pandas as pd\n",
    "import numpy as np\n",
    "import matplotlib.pyplot as plt\n",
    "import os"
   ]
  },
  {
   "cell_type": "code",
   "execution_count": 2,
   "metadata": {},
   "outputs": [
    {
     "data": {
      "text/plain": [
       "'c:\\\\Users\\\\julio\\\\Desktop\\\\PROJETO_IGTI_DATA_WAREHOUSE\\\\data\\\\raw'"
      ]
     },
     "execution_count": 2,
     "metadata": {},
     "output_type": "execute_result"
    }
   ],
   "source": [
    "# trocando de diretorio\n",
    "os.chdir('c:\\\\Users\\\\julio\\\\Desktop\\\\PROJETO_IGTI_DATA_WAREHOUSE\\\\data\\\\raw')\n",
    "os.getcwd()"
   ]
  },
  {
   "cell_type": "code",
   "execution_count": 3,
   "metadata": {},
   "outputs": [],
   "source": [
    "# importando os datasets\n",
    "# importando os datasets\n",
    "dfCarros = pd.read_csv('CargasCarro.csv', sep=';', encoding=\"ISO-8859-1\")\n",
    "dfClientes = pd.read_csv('CargasCliente.csv', sep=';', encoding=\"ISO-8859-1\")\n",
    "dfApolices = pd.read_csv('CargasApolice.csv', sep=';', encoding=\"ISO-8859-1\")\n",
    "dfSinistros = pd.read_csv('CargasSinistro.csv', sep=';', encoding=\"ISO-8859-1\")"
   ]
  },
  {
   "cell_type": "markdown",
   "metadata": {},
   "source": [
    "### Analise do Dataset dfCarros"
   ]
  },
  {
   "cell_type": "code",
   "execution_count": 4,
   "metadata": {},
   "outputs": [
    {
     "data": {
      "text/plain": [
       "(783, 7)"
      ]
     },
     "execution_count": 4,
     "metadata": {},
     "output_type": "execute_result"
    }
   ],
   "source": [
    "dfCarros.shape"
   ]
  },
  {
   "cell_type": "code",
   "execution_count": 5,
   "metadata": {},
   "outputs": [
    {
     "data": {
      "text/html": [
       "<div>\n",
       "<style scoped>\n",
       "    .dataframe tbody tr th:only-of-type {\n",
       "        vertical-align: middle;\n",
       "    }\n",
       "\n",
       "    .dataframe tbody tr th {\n",
       "        vertical-align: top;\n",
       "    }\n",
       "\n",
       "    .dataframe thead th {\n",
       "        text-align: right;\n",
       "    }\n",
       "</style>\n",
       "<table border=\"1\" class=\"dataframe\">\n",
       "  <thead>\n",
       "    <tr style=\"text-align: right;\">\n",
       "      <th></th>\n",
       "      <th>ID</th>\n",
       "      <th>Placa</th>\n",
       "      <th>Marca</th>\n",
       "      <th>Modelo</th>\n",
       "      <th>Ano</th>\n",
       "      <th>Chassi</th>\n",
       "      <th>Cor</th>\n",
       "    </tr>\n",
       "  </thead>\n",
       "  <tbody>\n",
       "    <tr>\n",
       "      <th>0</th>\n",
       "      <td>1</td>\n",
       "      <td>Placa 1</td>\n",
       "      <td>ACURA</td>\n",
       "      <td>INTEGRA</td>\n",
       "      <td>2012</td>\n",
       "      <td>Chassi1</td>\n",
       "      <td>Prata</td>\n",
       "    </tr>\n",
       "    <tr>\n",
       "      <th>1</th>\n",
       "      <td>2</td>\n",
       "      <td>Placa 2</td>\n",
       "      <td>ACURA</td>\n",
       "      <td>LEGEND</td>\n",
       "      <td>2014</td>\n",
       "      <td>Chassi2</td>\n",
       "      <td>Vermelho</td>\n",
       "    </tr>\n",
       "    <tr>\n",
       "      <th>2</th>\n",
       "      <td>3</td>\n",
       "      <td>Placa 7</td>\n",
       "      <td>ACURA</td>\n",
       "      <td>NSX</td>\n",
       "      <td>2015</td>\n",
       "      <td>Chassi3</td>\n",
       "      <td>Branco</td>\n",
       "    </tr>\n",
       "    <tr>\n",
       "      <th>3</th>\n",
       "      <td>4</td>\n",
       "      <td>Placa 7</td>\n",
       "      <td>AGRALE</td>\n",
       "      <td>MARRUA</td>\n",
       "      <td>2011</td>\n",
       "      <td>Chassi4</td>\n",
       "      <td>Preto</td>\n",
       "    </tr>\n",
       "    <tr>\n",
       "      <th>4</th>\n",
       "      <td>5</td>\n",
       "      <td>Placa 8</td>\n",
       "      <td>ALFA ROMEO</td>\n",
       "      <td>145</td>\n",
       "      <td>2010</td>\n",
       "      <td>Chassi5</td>\n",
       "      <td>Prata</td>\n",
       "    </tr>\n",
       "  </tbody>\n",
       "</table>\n",
       "</div>"
      ],
      "text/plain": [
       "   ID    Placa       Marca   Modelo   Ano   Chassi       Cor\n",
       "0   1  Placa 1       ACURA  INTEGRA  2012  Chassi1     Prata\n",
       "1   2  Placa 2       ACURA   LEGEND  2014  Chassi2  Vermelho\n",
       "2   3  Placa 7       ACURA      NSX  2015  Chassi3    Branco\n",
       "3   4  Placa 7      AGRALE   MARRUA  2011  Chassi4     Preto\n",
       "4   5  Placa 8  ALFA ROMEO      145  2010  Chassi5     Prata"
      ]
     },
     "execution_count": 5,
     "metadata": {},
     "output_type": "execute_result"
    }
   ],
   "source": [
    "dfCarros.head()"
   ]
  },
  {
   "cell_type": "markdown",
   "metadata": {},
   "source": [
    "- **ID:** identificador unico do carro  \n",
    "- **Placa:**  numero de palca do carro  \n",
    "- **Marca:** marca do carro  \n",
    "- **Modelo:** modelo do carro  \n",
    "- **Ano:** ano do carro  \n",
    "- **Chassi:** chassi do carro  \n",
    "- **Cor:** cor do carro  "
   ]
  },
  {
   "cell_type": "code",
   "execution_count": 6,
   "metadata": {},
   "outputs": [],
   "source": [
    "from datetime import datetime\n",
    "dfCarros['data_criacao'] = datetime.now()"
   ]
  },
  {
   "cell_type": "code",
   "execution_count": 7,
   "metadata": {},
   "outputs": [],
   "source": [
    "\n",
    "df_teste = dfCarros[['Placa', 'data_criacao']]\n",
    "#  datetime.now()"
   ]
  },
  {
   "cell_type": "code",
   "execution_count": 8,
   "metadata": {},
   "outputs": [
    {
     "name": "stderr",
     "output_type": "stream",
     "text": [
      "C:\\Users\\julio\\AppData\\Local\\Temp\\ipykernel_11404\\2371355931.py:1: SettingWithCopyWarning: \n",
      "A value is trying to be set on a copy of a slice from a DataFrame.\n",
      "Try using .loc[row_indexer,col_indexer] = value instead\n",
      "\n",
      "See the caveats in the documentation: https://pandas.pydata.org/pandas-docs/stable/user_guide/indexing.html#returning-a-view-versus-a-copy\n",
      "  df_teste['indice'] = df_teste.index\n"
     ]
    }
   ],
   "source": [
    "df_teste['indice'] = df_teste.index"
   ]
  },
  {
   "cell_type": "code",
   "execution_count": 9,
   "metadata": {},
   "outputs": [
    {
     "data": {
      "text/html": [
       "<div>\n",
       "<style scoped>\n",
       "    .dataframe tbody tr th:only-of-type {\n",
       "        vertical-align: middle;\n",
       "    }\n",
       "\n",
       "    .dataframe tbody tr th {\n",
       "        vertical-align: top;\n",
       "    }\n",
       "\n",
       "    .dataframe thead th {\n",
       "        text-align: right;\n",
       "    }\n",
       "</style>\n",
       "<table border=\"1\" class=\"dataframe\">\n",
       "  <thead>\n",
       "    <tr style=\"text-align: right;\">\n",
       "      <th></th>\n",
       "      <th>Placa</th>\n",
       "      <th>data_criacao</th>\n",
       "      <th>indice</th>\n",
       "    </tr>\n",
       "  </thead>\n",
       "  <tbody>\n",
       "    <tr>\n",
       "      <th>0</th>\n",
       "      <td>Placa 1</td>\n",
       "      <td>2022-09-20 18:59:20.573969</td>\n",
       "      <td>0</td>\n",
       "    </tr>\n",
       "    <tr>\n",
       "      <th>1</th>\n",
       "      <td>Placa 2</td>\n",
       "      <td>2022-09-20 18:59:20.573969</td>\n",
       "      <td>1</td>\n",
       "    </tr>\n",
       "    <tr>\n",
       "      <th>2</th>\n",
       "      <td>Placa 7</td>\n",
       "      <td>2022-09-20 18:59:20.573969</td>\n",
       "      <td>2</td>\n",
       "    </tr>\n",
       "    <tr>\n",
       "      <th>3</th>\n",
       "      <td>Placa 7</td>\n",
       "      <td>2022-09-20 18:59:20.573969</td>\n",
       "      <td>3</td>\n",
       "    </tr>\n",
       "    <tr>\n",
       "      <th>4</th>\n",
       "      <td>Placa 8</td>\n",
       "      <td>2022-09-20 18:59:20.573969</td>\n",
       "      <td>4</td>\n",
       "    </tr>\n",
       "  </tbody>\n",
       "</table>\n",
       "</div>"
      ],
      "text/plain": [
       "     Placa               data_criacao  indice\n",
       "0  Placa 1 2022-09-20 18:59:20.573969       0\n",
       "1  Placa 2 2022-09-20 18:59:20.573969       1\n",
       "2  Placa 7 2022-09-20 18:59:20.573969       2\n",
       "3  Placa 7 2022-09-20 18:59:20.573969       3\n",
       "4  Placa 8 2022-09-20 18:59:20.573969       4"
      ]
     },
     "execution_count": 9,
     "metadata": {},
     "output_type": "execute_result"
    }
   ],
   "source": [
    "df_teste.head()"
   ]
  },
  {
   "cell_type": "code",
   "execution_count": 10,
   "metadata": {},
   "outputs": [
    {
     "name": "stdout",
     "output_type": "stream",
     "text": [
      "<class 'pandas.core.frame.DataFrame'>\n",
      "RangeIndex: 783 entries, 0 to 782\n",
      "Data columns (total 8 columns):\n",
      " #   Column        Non-Null Count  Dtype         \n",
      "---  ------        --------------  -----         \n",
      " 0   ID            783 non-null    int64         \n",
      " 1   Placa         783 non-null    object        \n",
      " 2   Marca         783 non-null    object        \n",
      " 3   Modelo        783 non-null    object        \n",
      " 4   Ano           783 non-null    int64         \n",
      " 5   Chassi        783 non-null    object        \n",
      " 6   Cor           783 non-null    object        \n",
      " 7   data_criacao  783 non-null    datetime64[ns]\n",
      "dtypes: datetime64[ns](1), int64(2), object(5)\n",
      "memory usage: 49.1+ KB\n"
     ]
    }
   ],
   "source": [
    "dfCarros.info()"
   ]
  },
  {
   "cell_type": "code",
   "execution_count": 11,
   "metadata": {},
   "outputs": [
    {
     "data": {
      "text/plain": [
       "ID              0\n",
       "Placa           0\n",
       "Marca           0\n",
       "Modelo          0\n",
       "Ano             0\n",
       "Chassi          0\n",
       "Cor             0\n",
       "data_criacao    0\n",
       "dtype: int64"
      ]
     },
     "execution_count": 11,
     "metadata": {},
     "output_type": "execute_result"
    }
   ],
   "source": [
    "dfCarros.isnull().sum()"
   ]
  },
  {
   "cell_type": "markdown",
   "metadata": {},
   "source": [
    "### Analise do Dataset dfClientes"
   ]
  },
  {
   "cell_type": "code",
   "execution_count": 12,
   "metadata": {},
   "outputs": [
    {
     "data": {
      "text/plain": [
       "(20, 11)"
      ]
     },
     "execution_count": 12,
     "metadata": {},
     "output_type": "execute_result"
    }
   ],
   "source": [
    "dfClientes.shape"
   ]
  },
  {
   "cell_type": "code",
   "execution_count": 13,
   "metadata": {},
   "outputs": [
    {
     "data": {
      "text/html": [
       "<div>\n",
       "<style scoped>\n",
       "    .dataframe tbody tr th:only-of-type {\n",
       "        vertical-align: middle;\n",
       "    }\n",
       "\n",
       "    .dataframe tbody tr th {\n",
       "        vertical-align: top;\n",
       "    }\n",
       "\n",
       "    .dataframe thead th {\n",
       "        text-align: right;\n",
       "    }\n",
       "</style>\n",
       "<table border=\"1\" class=\"dataframe\">\n",
       "  <thead>\n",
       "    <tr style=\"text-align: right;\">\n",
       "      <th></th>\n",
       "      <th>CodCliente</th>\n",
       "      <th>Nome</th>\n",
       "      <th>CPF</th>\n",
       "      <th>Sexo</th>\n",
       "      <th>Estado</th>\n",
       "      <th>Cidade</th>\n",
       "      <th>Bairro</th>\n",
       "      <th>Numero</th>\n",
       "      <th>Rua</th>\n",
       "      <th>TelefoneFixo</th>\n",
       "      <th>TelefoneCelular</th>\n",
       "    </tr>\n",
       "  </thead>\n",
       "  <tbody>\n",
       "    <tr>\n",
       "      <th>0</th>\n",
       "      <td>1</td>\n",
       "      <td>Ken J Sánchez</td>\n",
       "      <td>15296387930</td>\n",
       "      <td>Feminino</td>\n",
       "      <td>Minas Gerais</td>\n",
       "      <td>Belo Horizonte</td>\n",
       "      <td>Centro</td>\n",
       "      <td>10.0</td>\n",
       "      <td>Rua Teste das Castanheiras</td>\n",
       "      <td>36418855.0</td>\n",
       "      <td>NaN</td>\n",
       "    </tr>\n",
       "    <tr>\n",
       "      <th>1</th>\n",
       "      <td>2</td>\n",
       "      <td>Terri Lee Duffy</td>\n",
       "      <td>10578963690</td>\n",
       "      <td>M</td>\n",
       "      <td>Minas Gerais</td>\n",
       "      <td>Belo Horizonte</td>\n",
       "      <td>Camargos</td>\n",
       "      <td>20.0</td>\n",
       "      <td>Rua Teste dos Pinheiros</td>\n",
       "      <td>36895566.0</td>\n",
       "      <td>NaN</td>\n",
       "    </tr>\n",
       "    <tr>\n",
       "      <th>2</th>\n",
       "      <td>3</td>\n",
       "      <td>Roberto  Tamburello</td>\n",
       "      <td>36925874120</td>\n",
       "      <td>M</td>\n",
       "      <td>Minas Gerais</td>\n",
       "      <td>Belo Horizonte</td>\n",
       "      <td>Santa Efigenia</td>\n",
       "      <td>30.0</td>\n",
       "      <td>Rua teste dos poetas</td>\n",
       "      <td>36895566.0</td>\n",
       "      <td>NaN</td>\n",
       "    </tr>\n",
       "    <tr>\n",
       "      <th>3</th>\n",
       "      <td>4</td>\n",
       "      <td>Rob  Walters</td>\n",
       "      <td>23658979630</td>\n",
       "      <td>M</td>\n",
       "      <td>Minas Gerais</td>\n",
       "      <td>Belo Horizonte</td>\n",
       "      <td>Centro</td>\n",
       "      <td>40.0</td>\n",
       "      <td>Rua teste dos prazeres</td>\n",
       "      <td>36895566.0</td>\n",
       "      <td>NaN</td>\n",
       "    </tr>\n",
       "    <tr>\n",
       "      <th>4</th>\n",
       "      <td>5</td>\n",
       "      <td>Gail A Erickson</td>\n",
       "      <td>78952589746</td>\n",
       "      <td>M</td>\n",
       "      <td>Minas Gerais</td>\n",
       "      <td>Belo Horizonte</td>\n",
       "      <td>Santo Antônio</td>\n",
       "      <td>50.0</td>\n",
       "      <td>Rua teste da poesia</td>\n",
       "      <td>36895566.0</td>\n",
       "      <td>NaN</td>\n",
       "    </tr>\n",
       "  </tbody>\n",
       "</table>\n",
       "</div>"
      ],
      "text/plain": [
       "   CodCliente                 Nome          CPF      Sexo        Estado  \\\n",
       "0           1        Ken J Sánchez  15296387930  Feminino  Minas Gerais   \n",
       "1           2      Terri Lee Duffy  10578963690         M  Minas Gerais   \n",
       "2           3  Roberto  Tamburello  36925874120         M  Minas Gerais   \n",
       "3           4         Rob  Walters  23658979630         M  Minas Gerais   \n",
       "4           5      Gail A Erickson  78952589746         M  Minas Gerais   \n",
       "\n",
       "           Cidade          Bairro  Numero                         Rua  \\\n",
       "0  Belo Horizonte          Centro    10.0  Rua Teste das Castanheiras   \n",
       "1  Belo Horizonte        Camargos    20.0     Rua Teste dos Pinheiros   \n",
       "2  Belo Horizonte  Santa Efigenia    30.0        Rua teste dos poetas   \n",
       "3  Belo Horizonte          Centro    40.0      Rua teste dos prazeres   \n",
       "4  Belo Horizonte   Santo Antônio    50.0         Rua teste da poesia   \n",
       "\n",
       "   TelefoneFixo  TelefoneCelular  \n",
       "0    36418855.0              NaN  \n",
       "1    36895566.0              NaN  \n",
       "2    36895566.0              NaN  \n",
       "3    36895566.0              NaN  \n",
       "4    36895566.0              NaN  "
      ]
     },
     "execution_count": 13,
     "metadata": {},
     "output_type": "execute_result"
    }
   ],
   "source": [
    "dfClientes.head()"
   ]
  },
  {
   "cell_type": "markdown",
   "metadata": {},
   "source": [
    "- **CodCliente:** identificador unico do cliente\n",
    "- **Nome:** nome do cliente\n",
    "- **CPF:** cpf do cliente\n",
    "- **Sexo:** sexo do cliente\n",
    "- **Estado:** cidade de origem do cliente\n",
    "- **Bairro:** bairro de origem do cliente\n",
    "- **Numero:** numero da casa do cliente\n",
    "- **Rua:** endereco do cliente\n",
    "- **TelefoneFixo:** telefone fixo do cliente\n",
    "- **TelefoneCelular:** telefone celular do cliente"
   ]
  },
  {
   "cell_type": "code",
   "execution_count": 14,
   "metadata": {},
   "outputs": [
    {
     "name": "stdout",
     "output_type": "stream",
     "text": [
      "<class 'pandas.core.frame.DataFrame'>\n",
      "RangeIndex: 20 entries, 0 to 19\n",
      "Data columns (total 11 columns):\n",
      " #   Column           Non-Null Count  Dtype  \n",
      "---  ------           --------------  -----  \n",
      " 0   CodCliente       20 non-null     int64  \n",
      " 1   Nome             20 non-null     object \n",
      " 2   CPF              20 non-null     int64  \n",
      " 3   Sexo             20 non-null     object \n",
      " 4   Estado           20 non-null     object \n",
      " 5   Cidade           19 non-null     object \n",
      " 6   Bairro           19 non-null     object \n",
      " 7   Numero           19 non-null     float64\n",
      " 8   Rua              19 non-null     object \n",
      " 9   TelefoneFixo     10 non-null     float64\n",
      " 10  TelefoneCelular  0 non-null      float64\n",
      "dtypes: float64(3), int64(2), object(6)\n",
      "memory usage: 1.8+ KB\n"
     ]
    }
   ],
   "source": [
    "dfClientes.info()"
   ]
  },
  {
   "cell_type": "code",
   "execution_count": 15,
   "metadata": {},
   "outputs": [
    {
     "data": {
      "text/plain": [
       "CodCliente          0\n",
       "Nome                0\n",
       "CPF                 0\n",
       "Sexo                0\n",
       "Estado              0\n",
       "Cidade              1\n",
       "Bairro              1\n",
       "Numero              1\n",
       "Rua                 1\n",
       "TelefoneFixo       10\n",
       "TelefoneCelular    20\n",
       "dtype: int64"
      ]
     },
     "execution_count": 15,
     "metadata": {},
     "output_type": "execute_result"
    }
   ],
   "source": [
    "dfClientes.isnull().sum()"
   ]
  },
  {
   "cell_type": "code",
   "execution_count": 16,
   "metadata": {},
   "outputs": [
    {
     "data": {
      "text/plain": [
       "array(['Feminino', 'M', 'F', 'Masculino'], dtype=object)"
      ]
     },
     "execution_count": 16,
     "metadata": {},
     "output_type": "execute_result"
    }
   ],
   "source": [
    "dfClientes.Sexo.unique()"
   ]
  },
  {
   "cell_type": "code",
   "execution_count": 17,
   "metadata": {},
   "outputs": [
    {
     "data": {
      "text/html": [
       "<div>\n",
       "<style scoped>\n",
       "    .dataframe tbody tr th:only-of-type {\n",
       "        vertical-align: middle;\n",
       "    }\n",
       "\n",
       "    .dataframe tbody tr th {\n",
       "        vertical-align: top;\n",
       "    }\n",
       "\n",
       "    .dataframe thead th {\n",
       "        text-align: right;\n",
       "    }\n",
       "</style>\n",
       "<table border=\"1\" class=\"dataframe\">\n",
       "  <thead>\n",
       "    <tr style=\"text-align: right;\">\n",
       "      <th></th>\n",
       "      <th>CodCliente</th>\n",
       "      <th>Nome</th>\n",
       "      <th>CPF</th>\n",
       "      <th>Sexo</th>\n",
       "      <th>Estado</th>\n",
       "      <th>Cidade</th>\n",
       "      <th>Bairro</th>\n",
       "      <th>Numero</th>\n",
       "      <th>Rua</th>\n",
       "      <th>TelefoneFixo</th>\n",
       "      <th>TelefoneCelular</th>\n",
       "      <th>cpf_corrigido</th>\n",
       "    </tr>\n",
       "  </thead>\n",
       "  <tbody>\n",
       "    <tr>\n",
       "      <th>0</th>\n",
       "      <td>1</td>\n",
       "      <td>Ken J Sánchez</td>\n",
       "      <td>15296387930</td>\n",
       "      <td>Feminino</td>\n",
       "      <td>Minas Gerais</td>\n",
       "      <td>Belo Horizonte</td>\n",
       "      <td>Centro</td>\n",
       "      <td>10.0</td>\n",
       "      <td>Rua Teste das Castanheiras</td>\n",
       "      <td>36418855.0</td>\n",
       "      <td>NaN</td>\n",
       "      <td>15296387930</td>\n",
       "    </tr>\n",
       "    <tr>\n",
       "      <th>1</th>\n",
       "      <td>2</td>\n",
       "      <td>Terri Lee Duffy</td>\n",
       "      <td>10578963690</td>\n",
       "      <td>M</td>\n",
       "      <td>Minas Gerais</td>\n",
       "      <td>Belo Horizonte</td>\n",
       "      <td>Camargos</td>\n",
       "      <td>20.0</td>\n",
       "      <td>Rua Teste dos Pinheiros</td>\n",
       "      <td>36895566.0</td>\n",
       "      <td>NaN</td>\n",
       "      <td>10578963690</td>\n",
       "    </tr>\n",
       "    <tr>\n",
       "      <th>2</th>\n",
       "      <td>3</td>\n",
       "      <td>Roberto  Tamburello</td>\n",
       "      <td>36925874120</td>\n",
       "      <td>M</td>\n",
       "      <td>Minas Gerais</td>\n",
       "      <td>Belo Horizonte</td>\n",
       "      <td>Santa Efigenia</td>\n",
       "      <td>30.0</td>\n",
       "      <td>Rua teste dos poetas</td>\n",
       "      <td>36895566.0</td>\n",
       "      <td>NaN</td>\n",
       "      <td>36925874120</td>\n",
       "    </tr>\n",
       "    <tr>\n",
       "      <th>3</th>\n",
       "      <td>4</td>\n",
       "      <td>Rob  Walters</td>\n",
       "      <td>23658979630</td>\n",
       "      <td>M</td>\n",
       "      <td>Minas Gerais</td>\n",
       "      <td>Belo Horizonte</td>\n",
       "      <td>Centro</td>\n",
       "      <td>40.0</td>\n",
       "      <td>Rua teste dos prazeres</td>\n",
       "      <td>36895566.0</td>\n",
       "      <td>NaN</td>\n",
       "      <td>23658979630</td>\n",
       "    </tr>\n",
       "    <tr>\n",
       "      <th>4</th>\n",
       "      <td>5</td>\n",
       "      <td>Gail A Erickson</td>\n",
       "      <td>78952589746</td>\n",
       "      <td>M</td>\n",
       "      <td>Minas Gerais</td>\n",
       "      <td>Belo Horizonte</td>\n",
       "      <td>Santo Antônio</td>\n",
       "      <td>50.0</td>\n",
       "      <td>Rua teste da poesia</td>\n",
       "      <td>36895566.0</td>\n",
       "      <td>NaN</td>\n",
       "      <td>78952589746</td>\n",
       "    </tr>\n",
       "  </tbody>\n",
       "</table>\n",
       "</div>"
      ],
      "text/plain": [
       "   CodCliente                 Nome          CPF      Sexo        Estado  \\\n",
       "0           1        Ken J Sánchez  15296387930  Feminino  Minas Gerais   \n",
       "1           2      Terri Lee Duffy  10578963690         M  Minas Gerais   \n",
       "2           3  Roberto  Tamburello  36925874120         M  Minas Gerais   \n",
       "3           4         Rob  Walters  23658979630         M  Minas Gerais   \n",
       "4           5      Gail A Erickson  78952589746         M  Minas Gerais   \n",
       "\n",
       "           Cidade          Bairro  Numero                         Rua  \\\n",
       "0  Belo Horizonte          Centro    10.0  Rua Teste das Castanheiras   \n",
       "1  Belo Horizonte        Camargos    20.0     Rua Teste dos Pinheiros   \n",
       "2  Belo Horizonte  Santa Efigenia    30.0        Rua teste dos poetas   \n",
       "3  Belo Horizonte          Centro    40.0      Rua teste dos prazeres   \n",
       "4  Belo Horizonte   Santo Antônio    50.0         Rua teste da poesia   \n",
       "\n",
       "   TelefoneFixo  TelefoneCelular cpf_corrigido  \n",
       "0    36418855.0              NaN   15296387930  \n",
       "1    36895566.0              NaN   10578963690  \n",
       "2    36895566.0              NaN   36925874120  \n",
       "3    36895566.0              NaN   23658979630  \n",
       "4    36895566.0              NaN   78952589746  "
      ]
     },
     "execution_count": 17,
     "metadata": {},
     "output_type": "execute_result"
    }
   ],
   "source": [
    "# covnertendo para texto\n",
    "dfClientes['cpf_corrigido'] = dfClientes['CPF'].astype(str)\n",
    "dfClientes.head()\n"
   ]
  },
  {
   "cell_type": "markdown",
   "metadata": {},
   "source": [
    "### Analise do Dataset dfApolices"
   ]
  },
  {
   "cell_type": "code",
   "execution_count": 18,
   "metadata": {},
   "outputs": [
    {
     "data": {
      "text/plain": [
       "(10, 7)"
      ]
     },
     "execution_count": 18,
     "metadata": {},
     "output_type": "execute_result"
    }
   ],
   "source": [
    "dfApolices.shape"
   ]
  },
  {
   "cell_type": "code",
   "execution_count": 19,
   "metadata": {},
   "outputs": [
    {
     "data": {
      "text/html": [
       "<div>\n",
       "<style scoped>\n",
       "    .dataframe tbody tr th:only-of-type {\n",
       "        vertical-align: middle;\n",
       "    }\n",
       "\n",
       "    .dataframe tbody tr th {\n",
       "        vertical-align: top;\n",
       "    }\n",
       "\n",
       "    .dataframe thead th {\n",
       "        text-align: right;\n",
       "    }\n",
       "</style>\n",
       "<table border=\"1\" class=\"dataframe\">\n",
       "  <thead>\n",
       "    <tr style=\"text-align: right;\">\n",
       "      <th></th>\n",
       "      <th>CodApolice</th>\n",
       "      <th>ValorCobertura</th>\n",
       "      <th>ValorFranquia</th>\n",
       "      <th>DataInicioVigencia</th>\n",
       "      <th>DataFimVigencia</th>\n",
       "      <th>Cliente_CodCliente</th>\n",
       "      <th>Carro_CodCarro</th>\n",
       "    </tr>\n",
       "  </thead>\n",
       "  <tbody>\n",
       "    <tr>\n",
       "      <th>0</th>\n",
       "      <td>1</td>\n",
       "      <td>100000</td>\n",
       "      <td>800</td>\n",
       "      <td>01/01/2022</td>\n",
       "      <td>01/01/2023</td>\n",
       "      <td>11</td>\n",
       "      <td>3</td>\n",
       "    </tr>\n",
       "    <tr>\n",
       "      <th>1</th>\n",
       "      <td>2</td>\n",
       "      <td>150000</td>\n",
       "      <td>1000</td>\n",
       "      <td>01/01/2021</td>\n",
       "      <td>01/01/2022</td>\n",
       "      <td>12</td>\n",
       "      <td>4</td>\n",
       "    </tr>\n",
       "    <tr>\n",
       "      <th>2</th>\n",
       "      <td>3</td>\n",
       "      <td>80000</td>\n",
       "      <td>300</td>\n",
       "      <td>01/01/2022</td>\n",
       "      <td>01/01/2023</td>\n",
       "      <td>13</td>\n",
       "      <td>5</td>\n",
       "    </tr>\n",
       "    <tr>\n",
       "      <th>3</th>\n",
       "      <td>4</td>\n",
       "      <td>90000</td>\n",
       "      <td>400</td>\n",
       "      <td>01/01/2015</td>\n",
       "      <td>01/01/2015</td>\n",
       "      <td>14</td>\n",
       "      <td>6</td>\n",
       "    </tr>\n",
       "    <tr>\n",
       "      <th>4</th>\n",
       "      <td>5</td>\n",
       "      <td>100000</td>\n",
       "      <td>800</td>\n",
       "      <td>01/01/2022</td>\n",
       "      <td>01/01/2023</td>\n",
       "      <td>1</td>\n",
       "      <td>20</td>\n",
       "    </tr>\n",
       "  </tbody>\n",
       "</table>\n",
       "</div>"
      ],
      "text/plain": [
       "   CodApolice  ValorCobertura  ValorFranquia DataInicioVigencia  \\\n",
       "0           1          100000            800         01/01/2022   \n",
       "1           2          150000           1000         01/01/2021   \n",
       "2           3           80000            300         01/01/2022   \n",
       "3           4           90000            400         01/01/2015   \n",
       "4           5          100000            800         01/01/2022   \n",
       "\n",
       "  DataFimVigencia  Cliente_CodCliente  Carro_CodCarro  \n",
       "0      01/01/2023                  11               3  \n",
       "1      01/01/2022                  12               4  \n",
       "2      01/01/2023                  13               5  \n",
       "3      01/01/2015                  14               6  \n",
       "4      01/01/2023                   1              20  "
      ]
     },
     "execution_count": 19,
     "metadata": {},
     "output_type": "execute_result"
    }
   ],
   "source": [
    "dfApolices.head()"
   ]
  },
  {
   "cell_type": "markdown",
   "metadata": {},
   "source": [
    "- **CodApolice:** identificador unico das apolices\n",
    "- **ValorCobertura:** valor da cobertura do seguro\n",
    "- **ValorFranquia:** valor que o cliente da apolice deve arcar em um sinistro\n",
    "- **DataInicioVigencia:** data de inicio da vigencia do seguro\n",
    "- **DataFimVigencia:** data de fim da vigencia do seguro\n",
    "- **Cliente_CodCliente:** identificador do cliente da apolice\n",
    "- **Carro_CodCarro:** identificador do carro da apolice"
   ]
  },
  {
   "cell_type": "code",
   "execution_count": 20,
   "metadata": {},
   "outputs": [
    {
     "data": {
      "text/plain": [
       "CodApolice            0\n",
       "ValorCobertura        0\n",
       "ValorFranquia         0\n",
       "DataInicioVigencia    0\n",
       "DataFimVigencia       0\n",
       "Cliente_CodCliente    0\n",
       "Carro_CodCarro        0\n",
       "dtype: int64"
      ]
     },
     "execution_count": 20,
     "metadata": {},
     "output_type": "execute_result"
    }
   ],
   "source": [
    "dfApolices.isnull().sum()"
   ]
  },
  {
   "cell_type": "code",
   "execution_count": 21,
   "metadata": {},
   "outputs": [
    {
     "name": "stdout",
     "output_type": "stream",
     "text": [
      "<class 'pandas.core.frame.DataFrame'>\n",
      "RangeIndex: 10 entries, 0 to 9\n",
      "Data columns (total 7 columns):\n",
      " #   Column              Non-Null Count  Dtype \n",
      "---  ------              --------------  ----- \n",
      " 0   CodApolice          10 non-null     int64 \n",
      " 1   ValorCobertura      10 non-null     int64 \n",
      " 2   ValorFranquia       10 non-null     int64 \n",
      " 3   DataInicioVigencia  10 non-null     object\n",
      " 4   DataFimVigencia     10 non-null     object\n",
      " 5   Cliente_CodCliente  10 non-null     int64 \n",
      " 6   Carro_CodCarro      10 non-null     int64 \n",
      "dtypes: int64(5), object(2)\n",
      "memory usage: 688.0+ bytes\n"
     ]
    }
   ],
   "source": [
    "dfApolices.info()"
   ]
  },
  {
   "cell_type": "markdown",
   "metadata": {},
   "source": [
    "### Analise do Dataset dfSinistros"
   ]
  },
  {
   "cell_type": "code",
   "execution_count": 22,
   "metadata": {},
   "outputs": [
    {
     "data": {
      "text/plain": [
       "(6, 6)"
      ]
     },
     "execution_count": 22,
     "metadata": {},
     "output_type": "execute_result"
    }
   ],
   "source": [
    "dfSinistros.shape"
   ]
  },
  {
   "cell_type": "code",
   "execution_count": 23,
   "metadata": {},
   "outputs": [
    {
     "data": {
      "text/html": [
       "<div>\n",
       "<style scoped>\n",
       "    .dataframe tbody tr th:only-of-type {\n",
       "        vertical-align: middle;\n",
       "    }\n",
       "\n",
       "    .dataframe tbody tr th {\n",
       "        vertical-align: top;\n",
       "    }\n",
       "\n",
       "    .dataframe thead th {\n",
       "        text-align: right;\n",
       "    }\n",
       "</style>\n",
       "<table border=\"1\" class=\"dataframe\">\n",
       "  <thead>\n",
       "    <tr style=\"text-align: right;\">\n",
       "      <th></th>\n",
       "      <th>CodSinistro</th>\n",
       "      <th>HoraSinistro</th>\n",
       "      <th>DataSinistro</th>\n",
       "      <th>Local Sinistro</th>\n",
       "      <th>Condutor</th>\n",
       "      <th>Carro_CodCarro</th>\n",
       "    </tr>\n",
       "  </thead>\n",
       "  <tbody>\n",
       "    <tr>\n",
       "      <th>0</th>\n",
       "      <td>1</td>\n",
       "      <td>10</td>\n",
       "      <td>29/07/2022</td>\n",
       "      <td>Belo Horizonte</td>\n",
       "      <td>Condutor Teste 1</td>\n",
       "      <td>6</td>\n",
       "    </tr>\n",
       "    <tr>\n",
       "      <th>1</th>\n",
       "      <td>2</td>\n",
       "      <td>9</td>\n",
       "      <td>28/07/2022</td>\n",
       "      <td>Santa Luzia</td>\n",
       "      <td>Condutor Teste 2</td>\n",
       "      <td>281</td>\n",
       "    </tr>\n",
       "    <tr>\n",
       "      <th>2</th>\n",
       "      <td>3</td>\n",
       "      <td>8</td>\n",
       "      <td>22/07/2022</td>\n",
       "      <td>Belo Horizonte</td>\n",
       "      <td>Condutor Teste 3</td>\n",
       "      <td>100</td>\n",
       "    </tr>\n",
       "    <tr>\n",
       "      <th>3</th>\n",
       "      <td>4</td>\n",
       "      <td>7</td>\n",
       "      <td>15/07/2022</td>\n",
       "      <td>Betim</td>\n",
       "      <td>Condutor Teste 4</td>\n",
       "      <td>5</td>\n",
       "    </tr>\n",
       "    <tr>\n",
       "      <th>4</th>\n",
       "      <td>5</td>\n",
       "      <td>6</td>\n",
       "      <td>12/07/2022</td>\n",
       "      <td>Contagem</td>\n",
       "      <td>Condutor Teste 5</td>\n",
       "      <td>3</td>\n",
       "    </tr>\n",
       "  </tbody>\n",
       "</table>\n",
       "</div>"
      ],
      "text/plain": [
       "   CodSinistro  HoraSinistro DataSinistro  Local Sinistro          Condutor  \\\n",
       "0            1            10   29/07/2022  Belo Horizonte  Condutor Teste 1   \n",
       "1            2             9   28/07/2022     Santa Luzia  Condutor Teste 2   \n",
       "2            3             8   22/07/2022  Belo Horizonte  Condutor Teste 3   \n",
       "3            4             7   15/07/2022           Betim  Condutor Teste 4   \n",
       "4            5             6   12/07/2022        Contagem  Condutor Teste 5   \n",
       "\n",
       "   Carro_CodCarro  \n",
       "0               6  \n",
       "1             281  \n",
       "2             100  \n",
       "3               5  \n",
       "4               3  "
      ]
     },
     "execution_count": 23,
     "metadata": {},
     "output_type": "execute_result"
    }
   ],
   "source": [
    "dfSinistros.head()\n",
    "\n"
   ]
  },
  {
   "cell_type": "markdown",
   "metadata": {},
   "source": [
    "- **CodSinistro:** identificador unico do sinistro\n",
    "- **HoraSinistro:** hora de ocorrencia do sinistro\n",
    "- **DataSinistro:** data de ocorrencia do sinistro\n",
    "- **Condutor:** condutor do sinistro\n",
    "- **Carro_CodCarro:** identificador do carro do sinistro"
   ]
  },
  {
   "cell_type": "code",
   "execution_count": 24,
   "metadata": {},
   "outputs": [
    {
     "name": "stdout",
     "output_type": "stream",
     "text": [
      "<class 'pandas.core.frame.DataFrame'>\n",
      "RangeIndex: 6 entries, 0 to 5\n",
      "Data columns (total 6 columns):\n",
      " #   Column          Non-Null Count  Dtype \n",
      "---  ------          --------------  ----- \n",
      " 0   CodSinistro     6 non-null      int64 \n",
      " 1   HoraSinistro    6 non-null      int64 \n",
      " 2   DataSinistro    6 non-null      object\n",
      " 3   Local Sinistro  6 non-null      object\n",
      " 4   Condutor        6 non-null      object\n",
      " 5   Carro_CodCarro  6 non-null      int64 \n",
      "dtypes: int64(3), object(3)\n",
      "memory usage: 416.0+ bytes\n"
     ]
    }
   ],
   "source": [
    "dfSinistros.info()"
   ]
  },
  {
   "cell_type": "code",
   "execution_count": 25,
   "metadata": {},
   "outputs": [
    {
     "data": {
      "text/plain": [
       "CodSinistro       0\n",
       "HoraSinistro      0\n",
       "DataSinistro      0\n",
       "Local Sinistro    0\n",
       "Condutor          0\n",
       "Carro_CodCarro    0\n",
       "dtype: int64"
      ]
     },
     "execution_count": 25,
     "metadata": {},
     "output_type": "execute_result"
    }
   ],
   "source": [
    "dfSinistros.isnull().sum()"
   ]
  },
  {
   "cell_type": "markdown",
   "metadata": {},
   "source": [
    "### ETL"
   ]
  },
  {
   "cell_type": "code",
   "execution_count": 26,
   "metadata": {},
   "outputs": [],
   "source": [
    "df1 = dfSinistros.merge(dfCarros, left_on='Carro_CodCarro', right_on='ID', how='left')"
   ]
  },
  {
   "cell_type": "code",
   "execution_count": 27,
   "metadata": {},
   "outputs": [],
   "source": [
    "df2 = dfApolices.merge(dfClientes, left_on='Cliente_CodCliente', right_on='CodCliente', how='left')"
   ]
  },
  {
   "cell_type": "code",
   "execution_count": 28,
   "metadata": {},
   "outputs": [],
   "source": [
    "df3 = df2.merge(dfCarros, left_on='Carro_CodCarro', right_on='ID', how='left')"
   ]
  },
  {
   "cell_type": "code",
   "execution_count": 29,
   "metadata": {},
   "outputs": [],
   "source": [
    "# analisando a relacao carro-cliente\n",
    "mask = ['CodCliente', 'Nome', 'ID']\n",
    "df4 = df3[mask]"
   ]
  },
  {
   "cell_type": "code",
   "execution_count": 30,
   "metadata": {},
   "outputs": [],
   "source": [
    "df5 = df1.merge(df4, left_on='Carro_CodCarro', right_on='ID', how='left')"
   ]
  },
  {
   "cell_type": "code",
   "execution_count": 31,
   "metadata": {},
   "outputs": [
    {
     "data": {
      "text/html": [
       "<div>\n",
       "<style scoped>\n",
       "    .dataframe tbody tr th:only-of-type {\n",
       "        vertical-align: middle;\n",
       "    }\n",
       "\n",
       "    .dataframe tbody tr th {\n",
       "        vertical-align: top;\n",
       "    }\n",
       "\n",
       "    .dataframe thead th {\n",
       "        text-align: right;\n",
       "    }\n",
       "</style>\n",
       "<table border=\"1\" class=\"dataframe\">\n",
       "  <thead>\n",
       "    <tr style=\"text-align: right;\">\n",
       "      <th></th>\n",
       "      <th>CodSinistro</th>\n",
       "      <th>HoraSinistro</th>\n",
       "      <th>DataSinistro</th>\n",
       "      <th>Local Sinistro</th>\n",
       "      <th>Condutor</th>\n",
       "      <th>Carro_CodCarro</th>\n",
       "      <th>ID_x</th>\n",
       "      <th>Placa</th>\n",
       "      <th>Marca</th>\n",
       "      <th>Modelo</th>\n",
       "      <th>Ano</th>\n",
       "      <th>Chassi</th>\n",
       "      <th>Cor</th>\n",
       "      <th>data_criacao</th>\n",
       "      <th>CodCliente</th>\n",
       "      <th>Nome</th>\n",
       "      <th>ID_y</th>\n",
       "    </tr>\n",
       "  </thead>\n",
       "  <tbody>\n",
       "    <tr>\n",
       "      <th>0</th>\n",
       "      <td>1</td>\n",
       "      <td>10</td>\n",
       "      <td>29/07/2022</td>\n",
       "      <td>Belo Horizonte</td>\n",
       "      <td>Condutor Teste 1</td>\n",
       "      <td>6</td>\n",
       "      <td>6</td>\n",
       "      <td>Placa 9</td>\n",
       "      <td>ALFA ROMEO</td>\n",
       "      <td>147</td>\n",
       "      <td>2009</td>\n",
       "      <td>Chassi6</td>\n",
       "      <td>Vermelho</td>\n",
       "      <td>2022-09-20 18:59:20.573969</td>\n",
       "      <td>14</td>\n",
       "      <td>Michael I Sullivan</td>\n",
       "      <td>6</td>\n",
       "    </tr>\n",
       "    <tr>\n",
       "      <th>1</th>\n",
       "      <td>2</td>\n",
       "      <td>9</td>\n",
       "      <td>28/07/2022</td>\n",
       "      <td>Santa Luzia</td>\n",
       "      <td>Condutor Teste 2</td>\n",
       "      <td>281</td>\n",
       "      <td>281</td>\n",
       "      <td>Placa 284</td>\n",
       "      <td>KIA</td>\n",
       "      <td>BESTA</td>\n",
       "      <td>2022</td>\n",
       "      <td>Chassi281</td>\n",
       "      <td>Prata</td>\n",
       "      <td>2022-09-20 18:59:20.573969</td>\n",
       "      <td>5</td>\n",
       "      <td>Gail A Erickson</td>\n",
       "      <td>281</td>\n",
       "    </tr>\n",
       "    <tr>\n",
       "      <th>2</th>\n",
       "      <td>3</td>\n",
       "      <td>8</td>\n",
       "      <td>22/07/2022</td>\n",
       "      <td>Belo Horizonte</td>\n",
       "      <td>Condutor Teste 3</td>\n",
       "      <td>100</td>\n",
       "      <td>100</td>\n",
       "      <td>Placa 103</td>\n",
       "      <td>DODGE</td>\n",
       "      <td>JOURNEY</td>\n",
       "      <td>2016</td>\n",
       "      <td>Chassi100</td>\n",
       "      <td>Preto</td>\n",
       "      <td>2022-09-20 18:59:20.573969</td>\n",
       "      <td>9</td>\n",
       "      <td>Gigi N Matthew</td>\n",
       "      <td>100</td>\n",
       "    </tr>\n",
       "    <tr>\n",
       "      <th>3</th>\n",
       "      <td>4</td>\n",
       "      <td>7</td>\n",
       "      <td>15/07/2022</td>\n",
       "      <td>Betim</td>\n",
       "      <td>Condutor Teste 4</td>\n",
       "      <td>5</td>\n",
       "      <td>5</td>\n",
       "      <td>Placa 8</td>\n",
       "      <td>ALFA ROMEO</td>\n",
       "      <td>145</td>\n",
       "      <td>2010</td>\n",
       "      <td>Chassi5</td>\n",
       "      <td>Prata</td>\n",
       "      <td>2022-09-20 18:59:20.573969</td>\n",
       "      <td>13</td>\n",
       "      <td>Janice M Galvin</td>\n",
       "      <td>5</td>\n",
       "    </tr>\n",
       "    <tr>\n",
       "      <th>4</th>\n",
       "      <td>5</td>\n",
       "      <td>6</td>\n",
       "      <td>12/07/2022</td>\n",
       "      <td>Contagem</td>\n",
       "      <td>Condutor Teste 5</td>\n",
       "      <td>3</td>\n",
       "      <td>3</td>\n",
       "      <td>Placa 7</td>\n",
       "      <td>ACURA</td>\n",
       "      <td>NSX</td>\n",
       "      <td>2015</td>\n",
       "      <td>Chassi3</td>\n",
       "      <td>Branco</td>\n",
       "      <td>2022-09-20 18:59:20.573969</td>\n",
       "      <td>11</td>\n",
       "      <td>Ovidiu V Cracium</td>\n",
       "      <td>3</td>\n",
       "    </tr>\n",
       "    <tr>\n",
       "      <th>5</th>\n",
       "      <td>6</td>\n",
       "      <td>6</td>\n",
       "      <td>10/07/2022</td>\n",
       "      <td>Sabara</td>\n",
       "      <td>Condutor Teste 1</td>\n",
       "      <td>6</td>\n",
       "      <td>6</td>\n",
       "      <td>Placa 9</td>\n",
       "      <td>ALFA ROMEO</td>\n",
       "      <td>147</td>\n",
       "      <td>2009</td>\n",
       "      <td>Chassi6</td>\n",
       "      <td>Vermelho</td>\n",
       "      <td>2022-09-20 18:59:20.573969</td>\n",
       "      <td>14</td>\n",
       "      <td>Michael I Sullivan</td>\n",
       "      <td>6</td>\n",
       "    </tr>\n",
       "  </tbody>\n",
       "</table>\n",
       "</div>"
      ],
      "text/plain": [
       "   CodSinistro  HoraSinistro DataSinistro  Local Sinistro          Condutor  \\\n",
       "0            1            10   29/07/2022  Belo Horizonte  Condutor Teste 1   \n",
       "1            2             9   28/07/2022     Santa Luzia  Condutor Teste 2   \n",
       "2            3             8   22/07/2022  Belo Horizonte  Condutor Teste 3   \n",
       "3            4             7   15/07/2022           Betim  Condutor Teste 4   \n",
       "4            5             6   12/07/2022        Contagem  Condutor Teste 5   \n",
       "5            6             6   10/07/2022          Sabara  Condutor Teste 1   \n",
       "\n",
       "   Carro_CodCarro  ID_x      Placa       Marca   Modelo   Ano     Chassi  \\\n",
       "0               6     6    Placa 9  ALFA ROMEO      147  2009    Chassi6   \n",
       "1             281   281  Placa 284         KIA    BESTA  2022  Chassi281   \n",
       "2             100   100  Placa 103       DODGE  JOURNEY  2016  Chassi100   \n",
       "3               5     5    Placa 8  ALFA ROMEO      145  2010    Chassi5   \n",
       "4               3     3    Placa 7       ACURA      NSX  2015    Chassi3   \n",
       "5               6     6    Placa 9  ALFA ROMEO      147  2009    Chassi6   \n",
       "\n",
       "        Cor               data_criacao  CodCliente                Nome  ID_y  \n",
       "0  Vermelho 2022-09-20 18:59:20.573969          14  Michael I Sullivan     6  \n",
       "1     Prata 2022-09-20 18:59:20.573969           5     Gail A Erickson   281  \n",
       "2     Preto 2022-09-20 18:59:20.573969           9      Gigi N Matthew   100  \n",
       "3     Prata 2022-09-20 18:59:20.573969          13     Janice M Galvin     5  \n",
       "4    Branco 2022-09-20 18:59:20.573969          11    Ovidiu V Cracium     3  \n",
       "5  Vermelho 2022-09-20 18:59:20.573969          14  Michael I Sullivan     6  "
      ]
     },
     "execution_count": 31,
     "metadata": {},
     "output_type": "execute_result"
    }
   ],
   "source": [
    "df5"
   ]
  },
  {
   "cell_type": "markdown",
   "metadata": {},
   "source": []
  },
  {
   "cell_type": "code",
   "execution_count": 32,
   "metadata": {},
   "outputs": [],
   "source": [
    "import pandas as pd\n",
    "from pandas import DataFrame\n",
    "dim_calendario: DataFrame = pd.DataFrame()\n",
    "dim_calendario['data'] = pd.date_range(start='1/1/2000', end='12/31/2030')"
   ]
  },
  {
   "cell_type": "code",
   "execution_count": 33,
   "metadata": {},
   "outputs": [],
   "source": [
    "dim_calendario['mes'] = dim_calendario['data'].dt.month"
   ]
  },
  {
   "cell_type": "code",
   "execution_count": 34,
   "metadata": {},
   "outputs": [],
   "source": [
    "dim_calendario[id] = dim_calendario['data'].apply(lambda x: x.strftime('%Y%m%d'))"
   ]
  },
  {
   "cell_type": "code",
   "execution_count": 35,
   "metadata": {},
   "outputs": [
    {
     "data": {
      "text/html": [
       "<div>\n",
       "<style scoped>\n",
       "    .dataframe tbody tr th:only-of-type {\n",
       "        vertical-align: middle;\n",
       "    }\n",
       "\n",
       "    .dataframe tbody tr th {\n",
       "        vertical-align: top;\n",
       "    }\n",
       "\n",
       "    .dataframe thead th {\n",
       "        text-align: right;\n",
       "    }\n",
       "</style>\n",
       "<table border=\"1\" class=\"dataframe\">\n",
       "  <thead>\n",
       "    <tr style=\"text-align: right;\">\n",
       "      <th></th>\n",
       "      <th>data</th>\n",
       "      <th>mes</th>\n",
       "      <th>2024841093584</th>\n",
       "    </tr>\n",
       "  </thead>\n",
       "  <tbody>\n",
       "    <tr>\n",
       "      <th>0</th>\n",
       "      <td>2000-01-01</td>\n",
       "      <td>1</td>\n",
       "      <td>20000101</td>\n",
       "    </tr>\n",
       "    <tr>\n",
       "      <th>1</th>\n",
       "      <td>2000-01-02</td>\n",
       "      <td>1</td>\n",
       "      <td>20000102</td>\n",
       "    </tr>\n",
       "    <tr>\n",
       "      <th>2</th>\n",
       "      <td>2000-01-03</td>\n",
       "      <td>1</td>\n",
       "      <td>20000103</td>\n",
       "    </tr>\n",
       "    <tr>\n",
       "      <th>3</th>\n",
       "      <td>2000-01-04</td>\n",
       "      <td>1</td>\n",
       "      <td>20000104</td>\n",
       "    </tr>\n",
       "    <tr>\n",
       "      <th>4</th>\n",
       "      <td>2000-01-05</td>\n",
       "      <td>1</td>\n",
       "      <td>20000105</td>\n",
       "    </tr>\n",
       "    <tr>\n",
       "      <th>...</th>\n",
       "      <td>...</td>\n",
       "      <td>...</td>\n",
       "      <td>...</td>\n",
       "    </tr>\n",
       "    <tr>\n",
       "      <th>11318</th>\n",
       "      <td>2030-12-27</td>\n",
       "      <td>12</td>\n",
       "      <td>20301227</td>\n",
       "    </tr>\n",
       "    <tr>\n",
       "      <th>11319</th>\n",
       "      <td>2030-12-28</td>\n",
       "      <td>12</td>\n",
       "      <td>20301228</td>\n",
       "    </tr>\n",
       "    <tr>\n",
       "      <th>11320</th>\n",
       "      <td>2030-12-29</td>\n",
       "      <td>12</td>\n",
       "      <td>20301229</td>\n",
       "    </tr>\n",
       "    <tr>\n",
       "      <th>11321</th>\n",
       "      <td>2030-12-30</td>\n",
       "      <td>12</td>\n",
       "      <td>20301230</td>\n",
       "    </tr>\n",
       "    <tr>\n",
       "      <th>11322</th>\n",
       "      <td>2030-12-31</td>\n",
       "      <td>12</td>\n",
       "      <td>20301231</td>\n",
       "    </tr>\n",
       "  </tbody>\n",
       "</table>\n",
       "<p>11323 rows × 3 columns</p>\n",
       "</div>"
      ],
      "text/plain": [
       "            data  mes 2024841093584\n",
       "0     2000-01-01    1      20000101\n",
       "1     2000-01-02    1      20000102\n",
       "2     2000-01-03    1      20000103\n",
       "3     2000-01-04    1      20000104\n",
       "4     2000-01-05    1      20000105\n",
       "...          ...  ...           ...\n",
       "11318 2030-12-27   12      20301227\n",
       "11319 2030-12-28   12      20301228\n",
       "11320 2030-12-29   12      20301229\n",
       "11321 2030-12-30   12      20301230\n",
       "11322 2030-12-31   12      20301231\n",
       "\n",
       "[11323 rows x 3 columns]"
      ]
     },
     "execution_count": 35,
     "metadata": {},
     "output_type": "execute_result"
    }
   ],
   "source": [
    "dim_calendario"
   ]
  },
  {
   "cell_type": "code",
   "execution_count": null,
   "metadata": {},
   "outputs": [],
   "source": []
  },
  {
   "cell_type": "code",
   "execution_count": null,
   "metadata": {},
   "outputs": [],
   "source": []
  },
  {
   "cell_type": "code",
   "execution_count": null,
   "metadata": {},
   "outputs": [],
   "source": []
  },
  {
   "cell_type": "code",
   "execution_count": null,
   "metadata": {},
   "outputs": [],
   "source": []
  },
  {
   "cell_type": "code",
   "execution_count": null,
   "metadata": {},
   "outputs": [],
   "source": []
  }
 ],
 "metadata": {
  "kernelspec": {
   "display_name": "Python 3.10.7 ('dw')",
   "language": "python",
   "name": "python3"
  },
  "language_info": {
   "codemirror_mode": {
    "name": "ipython",
    "version": 3
   },
   "file_extension": ".py",
   "mimetype": "text/x-python",
   "name": "python",
   "nbconvert_exporter": "python",
   "pygments_lexer": "ipython3",
   "version": "3.10.7"
  },
  "orig_nbformat": 4,
  "vscode": {
   "interpreter": {
    "hash": "50ef7e1669703948ae591b227fb68705ee7edd115d1df1c3fe794d18cf7c43b2"
   }
  }
 },
 "nbformat": 4,
 "nbformat_minor": 2
}
